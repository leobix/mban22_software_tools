{
 "cells": [
  {
   "cell_type": "markdown",
   "metadata": {
    "slideshow": {
     "slide_type": "notes"
    }
   },
   "source": [
    "# Optimization with JuMP\n",
    "\n",
    "Optimization models play a central role in operations research. \n",
    "\n",
    "In this session, we will explore the basic functionalities of JuMP, a modeling language to define and solve optimization models in Julia."
   ]
  },
  {
   "cell_type": "markdown",
   "metadata": {
    "slideshow": {
     "slide_type": "slide"
    }
   },
   "source": [
    "## Sudoku\n",
    "\n",
    "![Sudoku](http://upload.wikimedia.org/wikipedia/commons/f/ff/Sudoku-by-L2G-20050714.svg)\n",
    "\n",
    "**Sudoku** is a number puzzle played on a 9x9 grid. The challenge is to place a digit between 1 and 9 inclusive in each empty cell, such that the completed grid obeys the following rules:\n",
    "\n",
    "* Each row contains the numbers 1 to 9 once and only once.\n",
    "* Each column contains the numbers 1 to 9 once and only once.\n",
    "* Each 3x3 subgrid contains the numbers 1 to 9 once and only once."
   ]
  },
  {
   "cell_type": "markdown",
   "metadata": {
    "slideshow": {
     "slide_type": "slide"
    }
   },
   "source": [
    "Goal: Model the Sudoku problem as an optimization problem. Write a Julia function to solve it."
   ]
  },
  {
   "cell_type": "markdown",
   "metadata": {
    "slideshow": {
     "slide_type": "slide"
    }
   },
   "source": [
    "**Variables**\n",
    "\n",
    "We define binary variables \n",
    "$$ x_{i,j,k} \\in \\{0, 1\\}, $$\n",
    "for each row $i$, column $j$ and integer $k \\in \\{ 1,2, \\dots,9\\}$.\n",
    "\n",
    "$x_{i,j,k} = 1$ iff the number $k$ appears in cell $(i,j)$"
   ]
  },
  {
   "cell_type": "markdown",
   "metadata": {
    "slideshow": {
     "slide_type": "slide"
    }
   },
   "source": [
    "**Constraints**"
   ]
  },
  {
   "cell_type": "markdown",
   "metadata": {
    "slideshow": {
     "slide_type": "subslide"
    }
   },
   "source": [
    "- Exactly one value appears in each cell: for all $(i,j)$,\n",
    "$$\\sum_{k=1}^9 x_{i,j,k} = 1$$\n",
    "- Each value appears in each row exactly once: for all $i$, all $k$,\n",
    "$$\\sum_{j=1}^9 x_{i,j,k} = 1$$\n",
    "- Each value appears in each column exactly once: for all $j$, all $k$,\n",
    "$$\\sum_{i=1}^9 x_{i,j,k} = 1$$\n",
    "- Each value appears in each 3x3 subgrid exactly once: for all subgrid $(i,j) \\in \\{1,4,7\\}\\times\\{1,4,7\\}$, for all $k$,\n",
    "$$\\sum_{i'=i}^{i+2} \\sum_{j'=j}^{j+2} x_{i,j,k} = 1$$\n",
    "- Match the value on known cells "
   ]
  },
  {
   "cell_type": "markdown",
   "metadata": {
    "slideshow": {
     "slide_type": "slide"
    }
   },
   "source": [
    "**Objective?**"
   ]
  },
  {
   "cell_type": "markdown",
   "metadata": {
    "slideshow": {
     "slide_type": "slide"
    }
   },
   "source": [
    "Let us solve this problem in Julia now!"
   ]
  },
  {
   "cell_type": "code",
   "execution_count": 1,
   "metadata": {
    "scrolled": false,
    "slideshow": {
     "slide_type": "slide"
    }
   },
   "outputs": [
    {
     "data": {
      "text/plain": [
       "9×9 Matrix{Int64}:\n",
       " 5  3  0  0  7  0  0  0  0\n",
       " 6  0  0  1  9  5  0  0  0\n",
       " 0  9  8  0  0  0  0  6  0\n",
       " 8  0  0  0  6  0  0  0  3\n",
       " 4  0  0  8  0  3  0  0  1\n",
       " 7  0  0  0  2  0  0  0  6\n",
       " 0  6  0  0  0  0  2  8  0\n",
       " 0  0  0  4  1  9  0  0  5\n",
       " 0  0  0  0  8  0  0  7  9"
      ]
     },
     "execution_count": 1,
     "metadata": {},
     "output_type": "execute_result"
    }
   ],
   "source": [
    "init_vals = [\n",
    "5 3 0 0 7 0 0 0 0\n",
    "6 0 0 1 9 5 0 0 0\n",
    "0 9 8 0 0 0 0 6 0\n",
    "8 0 0 0 6 0 0 0 3\n",
    "4 0 0 8 0 3 0 0 1\n",
    "7 0 0 0 2 0 0 0 6\n",
    "0 6 0 0 0 0 2 8 0\n",
    "0 0 0 4 1 9 0 0 5\n",
    "0 0 0 0 8 0 0 7 9\n",
    "]"
   ]
  },
  {
   "cell_type": "markdown",
   "metadata": {},
   "source": [
    "First, we'll write a basic helper function that will plot the sudoku for us."
   ]
  },
  {
   "cell_type": "code",
   "execution_count": 2,
   "metadata": {},
   "outputs": [
    {
     "data": {
      "text/plain": [
       "display_sudoku (generic function with 2 methods)"
      ]
     },
     "execution_count": 2,
     "metadata": {},
     "output_type": "execute_result"
    }
   ],
   "source": [
    "using PyPlot\n",
    "# Displays a sudoku matrix. If an initial state is provided, \n",
    "# then the new numbers are displayed in red. \n",
    "function display_sudoku(sudoku, initial_state=zeros(9,9))\n",
    "    fig, ax = subplots()\n",
    "    ax[:axis](\"off\")\n",
    "    # Make sudoku basic 9x9 grid.\n",
    "    for i in 0:9\n",
    "        plot([i,i], [0, 9], color = \"black\")\n",
    "        plot([0, 9], [i,i], color = \"black\")\n",
    "    end\n",
    "    # Make thicker lines to separate the 3x3 subgrids.\n",
    "    for i in 0:3:9\n",
    "        plot([i,i], [0,9], color = \"black\", linewidth = 3)\n",
    "        plot([0,9], [i,i], color = \"black\", linewidth = 3)\n",
    "    end\n",
    "    # Display the values at the right square.\n",
    "    for i in 0:8\n",
    "        for j in 0:8 \n",
    "            value = Int(sudoku[9-j,i+1])\n",
    "            old_value = initial_state[9-j,i+1]\n",
    "            # If an initial state is not provided (set to zero) or the value of the \n",
    "            # square did not change, the color is set to black. Otherwise, it becomes red.\n",
    "            col = (sum(initial_state) == 0 || old_value == value) ? \"black\" : \"red\"\n",
    "            if value > 0 # Omit zero values  \n",
    "                text(i + 0.35, j + 0.33, value, size = 16, color = col)\n",
    "            end\n",
    "        end\n",
    "    end\n",
    "end"
   ]
  },
  {
   "cell_type": "markdown",
   "metadata": {},
   "source": [
    "Let's test it out!"
   ]
  },
  {
   "cell_type": "code",
   "execution_count": 3,
   "metadata": {},
   "outputs": [
    {
     "data": {
      "image/png": "[encoded data removed]",
      "text/plain": [
       "Figure(PyObject <Figure size 640x480 with 1 Axes>)"
      ]
     },
     "metadata": {},
     "output_type": "display_data"
    }
   ],
   "source": [
    "display_sudoku(init_vals)"
   ]
  },
  {
   "cell_type": "markdown",
   "metadata": {},
   "source": [
    "#### JuMP Formulation\n",
    "Now, translate the constraints that we wrote above into a JuMP formulation. We have started the model below."
   ]
  },
  {
   "cell_type": "code",
   "execution_count": 4,
   "metadata": {
    "slideshow": {
     "slide_type": "slide"
    }
   },
   "outputs": [
    {
     "name": "stdout",
     "output_type": "stream",
     "text": [
      "Academic license - for non-commercial use only - expires 2022-08-14\n"
     ]
    }
   ],
   "source": [
    "using Gurobi, JuMP\n",
    "sudoku = Model(with_optimizer(Gurobi.Optimizer))\n",
    "\n",
    "@variable(sudoku, x[i=1:9, j=1:9, k=1:9], Bin)\n",
    "\n",
    "# Exactly one value appears in each cell\n",
    "@constraint(sudoku, [i=1:9, j=1:9], sum([x[i,j,k] for k in 1:9]) == 1) #constraints indexed by their indices\n",
    "\n",
    "# Each value appears in each row exactly once.\n",
    "\n",
    "# Each value appears in each column exactly once.\n",
    "\n",
    "# Each value appears in each 3x3 subgrid exactly once.\n",
    "\n",
    "# Fix given values. \n",
    "\n"
   ]
  },
  {
   "cell_type": "code",
   "execution_count": 5,
   "metadata": {
    "slideshow": {
     "slide_type": "slide"
    }
   },
   "outputs": [
    {
     "name": "stdout",
     "output_type": "stream",
     "text": [
      "Gurobi Optimizer version 9.1.2 build v9.1.2rc0 (mac64)\n",
      "Thread count: 4 physical cores, 8 logical processors, using up to 8 threads\n",
      "Optimize a model with 354 rows, 729 columns and 2946 nonzeros\n",
      "Model fingerprint: 0x1c2863e1\n",
      "Variable types: 0 continuous, 729 integer (729 binary)\n",
      "Coefficient statistics:\n",
      "  Matrix range     [1e+00, 1e+00]\n",
      "  Objective range  [0e+00, 0e+00]\n",
      "  Bounds range     [0e+00, 0e+00]\n",
      "  RHS range        [1e+00, 1e+00]\n",
      "Presolve removed 354 rows and 729 columns\n",
      "Presolve time: 0.00s\n",
      "Presolve: All rows and columns removed\n",
      "\n",
      "Explored 0 nodes (0 simplex iterations) in 0.00 seconds\n",
      "Thread count was 1 (of 8 available processors)\n",
      "\n",
      "Solution count 1: 0 \n",
      "\n",
      "Optimal solution found (tolerance 1.00e-04)\n",
      "Best objective 0.000000000000e+00, best bound 0.000000000000e+00, gap 0.0000%\n",
      "\n",
      "User-callback calls 38, time in user-callback 0.00 sec\n"
     ]
    }
   ],
   "source": [
    "optimize!(sudoku)"
   ]
  },
  {
   "cell_type": "code",
   "execution_count": 6,
   "metadata": {
    "slideshow": {
     "slide_type": "skip"
    }
   },
   "outputs": [
    {
     "data": {
      "text/plain": [
       "9×9 Matrix{Float64}:\n",
       " 5.0  3.0  4.0  6.0  7.0  8.0  9.0  1.0  2.0\n",
       " 6.0  7.0  2.0  1.0  9.0  5.0  3.0  4.0  8.0\n",
       " 1.0  9.0  8.0  3.0  4.0  2.0  5.0  6.0  7.0\n",
       " 8.0  5.0  9.0  7.0  6.0  1.0  4.0  2.0  3.0\n",
       " 4.0  2.0  6.0  8.0  5.0  3.0  7.0  9.0  1.0\n",
       " 7.0  1.0  3.0  9.0  2.0  4.0  8.0  5.0  6.0\n",
       " 9.0  6.0  1.0  5.0  3.0  7.0  2.0  8.0  4.0\n",
       " 2.0  8.0  7.0  4.0  1.0  9.0  6.0  3.0  5.0\n",
       " 3.0  4.0  5.0  2.0  8.0  6.0  1.0  7.0  9.0"
      ]
     },
     "execution_count": 6,
     "metadata": {},
     "output_type": "execute_result"
    }
   ],
   "source": [
    "sol = sum(k * value.(x)[:,:,k] for k in 1:9)"
   ]
  },
  {
   "cell_type": "code",
   "execution_count": 7,
   "metadata": {
    "slideshow": {
     "slide_type": "slide"
    }
   },
   "outputs": [
    {
     "data": {
      "image/png": "[encoded data removed]",
      "text/plain": [
       "Figure(PyObject <Figure size 640x480 with 1 Axes>)"
      ]
     },
     "metadata": {},
     "output_type": "display_data"
    }
   ],
   "source": [
    "display_sudoku(sol, init_vals)"
   ]
  }
 ],
 "metadata": {
  "@webio": {
   "lastCommId": null,
   "lastKernelId": null
  },
  "anaconda-cloud": {},
  "kernelspec": {
   "display_name": "Julia 1.6.2",
   "language": "julia",
   "name": "julia-1.6"
  },
  "language_info": {
   "file_extension": ".jl",
   "mimetype": "application/julia",
   "name": "julia",
   "version": "1.6.2"
  }
 },
 "nbformat": 4,
 "nbformat_minor": 1
}
