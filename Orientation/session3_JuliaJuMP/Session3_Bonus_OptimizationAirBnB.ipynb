{
 "cells": [
  {
   "cell_type": "markdown",
   "metadata": {},
   "source": [
    "# AirBnB assignment problem\n",
    "\n",
    "You are planning a weekend vacation in Boston for a large group of students. You would like to stay in AirBnB's, since this is generally cheaper than staying at an hotel.\n",
    "Unfortunately, this is quite complicated to organize!\n",
    "\n",
    "* AirBnBs accommodate different numbers of guests, so it is difficult to divide everyone into groups\n",
    "* Since there are many of you, some people might try to book the same listings and be disappointed\n",
    "* All the AirBnBs have different features and prices\n",
    "\n",
    "Instead of everyone trying to organize their own groups and bookings, you have volunteered to formulate an optimization model to determine where each person should stay.\n",
    "You sent out an initial survey to your classmates to find out what preferences and constraints you need to consider:\n",
    "* Some students requested to be placed in a Male only/Female only lisitng, while some were happy to share with anyone\n",
    "* Some students requested specific amenities: Kitchen, Air-con etc.\n",
    "\n",
    "You also decided to restrict the listings that you would consider based on certain criteria\n",
    "* You all want to be near each other for group activities, so we will only consider listings in certain neighbourhoods near central Boston or Back Bay\n",
    "* We will only consider listings with high review scores"
   ]
  },
  {
   "cell_type": "markdown",
   "metadata": {},
   "source": [
    "Before you begin, check your current working directory. If this is not inside the folder \"mban22_software_tools/Orientation/session3_JuliaJuMP\", change it to this location using the `cd()` function.\n",
    "\n",
    "Note: for Windows paths, use \"\\\\\". For UNIX systems, use \"/\"."
   ]
  },
  {
   "cell_type": "code",
   "execution_count": 1,
   "metadata": {},
   "outputs": [
    {
     "data": {
      "text/plain": [
       "\"/Users/hollywiberg/git/mban22_software_tools/Orientation/session3_JuliaJuMP\""
      ]
     },
     "execution_count": 1,
     "metadata": {},
     "output_type": "execute_result"
    }
   ],
   "source": [
    "pwd()"
   ]
  },
  {
   "cell_type": "code",
   "execution_count": 2,
   "metadata": {},
   "outputs": [],
   "source": [
    "# set the working directory to the 3_optimization folder\n",
    "#cd(\"C:\\\\Users\\\\Name\\\\Desktop\\\\mban22_software_tools\\\\Orientation\\\\session3_JuliaJuMP\\\\\")\n",
    "#cd(\"/Users/Name/Desktop/mban22_software_tools/Orientation/session3_JuliaJuMP/\")"
   ]
  },
  {
   "cell_type": "code",
   "execution_count": 3,
   "metadata": {},
   "outputs": [],
   "source": [
    "# load packages\n",
    "using JuMP, Gurobi, DataFrames, CSV"
   ]
  },
  {
   "cell_type": "markdown",
   "metadata": {},
   "source": [
    "## Data\n",
    "\n",
    "In Session 1, we practiced filtering and manipulating the AirBnB data in R. Instead of starting from scratch in Julia, we'll start with a filtered version of the dataset. The file that we will read into Julia contains all the listings that are available for a 3-night stay starting on our specified date (11/25/2019). The columns of this DataFrame include all the original AirBnB data, plus a few new columns. For example, we added new columns to indicate whether each listing has certain amenities. "
   ]
  },
  {
   "cell_type": "code",
   "execution_count": 6,
   "metadata": {},
   "outputs": [
    {
     "name": "stdout",
     "output_type": "stream",
     "text": [
      "There are 118 listings available on 11/25/2019\n"
     ]
    },
    {
     "data": {
      "text/html": [
       "<div class=\"data-frame\"><p>5 rows × 109 columns (omitted printing of 104 columns)</p><table class=\"data-frame\"><thead><tr><th></th><th>id</th><th>listing_url</th><th>scrape_id</th><th>last_scraped</th><th>name</th></tr><tr><th></th><th title=\"Int64\">Int64</th><th title=\"String\">String</th><th title=\"Int64\">Int64</th><th title=\"Dates.Date\">Date…</th><th title=\"String\">String</th></tr></thead><tbody><tr><th>1</th><td>311240</td><td>https://www.airbnb.com/rooms/311240</td><td>20190714024644</td><td>2019-07-14</td><td>Upscale Back Bay Studio, River Views</td></tr><tr><th>2</th><td>1090413</td><td>https://www.airbnb.com/rooms/1090413</td><td>20190714024644</td><td>2019-07-14</td><td>HynesConventionCtr-5min-Lge Rm-Pvt Bath</td></tr><tr><th>3</th><td>1090545</td><td>https://www.airbnb.com/rooms/1090545</td><td>20190714024644</td><td>2019-07-14</td><td>BostonCtrBackBay-Pvt Bath&amp;Rm-Comfy Bed</td></tr><tr><th>4</th><td>1868124</td><td>https://www.airbnb.com/rooms/1868124</td><td>20190714024644</td><td>2019-07-14</td><td>Lux Downtown Boston 1 Bedroom Apt w/pool</td></tr><tr><th>5</th><td>1868513</td><td>https://www.airbnb.com/rooms/1868513</td><td>20190714024644</td><td>2019-07-14</td><td>Lux 1 Bedroom in Post-War Back Bay building w/WiFi</td></tr></tbody></table></div>"
      ],
      "text/latex": [
       "\\begin{tabular}{r|cccccc}\n",
       "\t& id & listing\\_url & scrape\\_id & last\\_scraped & name & \\\\\n",
       "\t\\hline\n",
       "\t& Int64 & String & Int64 & Date… & String & \\\\\n",
       "\t\\hline\n",
       "\t1 & 311240 & https://www.airbnb.com/rooms/311240 & 20190714024644 & 2019-07-14 & Upscale Back Bay Studio, River Views & $\\dots$ \\\\\n",
       "\t2 & 1090413 & https://www.airbnb.com/rooms/1090413 & 20190714024644 & 2019-07-14 & HynesConventionCtr-5min-Lge Rm-Pvt Bath & $\\dots$ \\\\\n",
       "\t3 & 1090545 & https://www.airbnb.com/rooms/1090545 & 20190714024644 & 2019-07-14 & BostonCtrBackBay-Pvt Bath\\&Rm-Comfy Bed & $\\dots$ \\\\\n",
       "\t4 & 1868124 & https://www.airbnb.com/rooms/1868124 & 20190714024644 & 2019-07-14 & Lux Downtown Boston 1 Bedroom Apt w/pool & $\\dots$ \\\\\n",
       "\t5 & 1868513 & https://www.airbnb.com/rooms/1868513 & 20190714024644 & 2019-07-14 & Lux 1 Bedroom in Post-War Back Bay building w/WiFi & $\\dots$ \\\\\n",
       "\\end{tabular}\n"
      ],
      "text/plain": [
       "\u001b[1m5×109 DataFrame\u001b[0m\n",
       "\u001b[1m Row \u001b[0m│\u001b[1m id      \u001b[0m\u001b[1m listing_url                       \u001b[0m\u001b[1m scrape_id      \u001b[0m\u001b[1m last_scrape\u001b[0m ⋯\n",
       "\u001b[1m     \u001b[0m│\u001b[90m Int64   \u001b[0m\u001b[90m String                            \u001b[0m\u001b[90m Int64          \u001b[0m\u001b[90m Dates.Date \u001b[0m ⋯\n",
       "─────┼──────────────────────────────────────────────────────────────────────────\n",
       "   1 │  311240  https://www.airbnb.com/rooms/311…  20190714024644  2019-07-14  ⋯\n",
       "   2 │ 1090413  https://www.airbnb.com/rooms/109…  20190714024644  2019-07-14\n",
       "   3 │ 1090545  https://www.airbnb.com/rooms/109…  20190714024644  2019-07-14\n",
       "   4 │ 1868124  https://www.airbnb.com/rooms/186…  20190714024644  2019-07-14\n",
       "   5 │ 1868513  https://www.airbnb.com/rooms/186…  20190714024644  2019-07-14  ⋯\n",
       "\u001b[36m                                                             106 columns omitted\u001b[0m"
      ]
     },
     "execution_count": 6,
     "metadata": {},
     "output_type": "execute_result"
    }
   ],
   "source": [
    "# now, let's read in the output that we saved from this script \n",
    "listings = CSV.read(\"data/filtered_listings.csv\", DataFrame)\n",
    "L=size(listings,1)\n",
    "println(\"There are $L listings available on 11/25/2019\")\n",
    "first(listings,5)"
   ]
  },
  {
   "cell_type": "markdown",
   "metadata": {},
   "source": [
    "The file that we have read into Julia contains all the listings that are available for a 3-night stay starting on our specified date. The columns of this DataFrame include all the original AirBnB data, plus a few new columns that we added in the R script. For example, we added new columns to indicate whether each listing has certain amenities."
   ]
  },
  {
   "cell_type": "code",
   "execution_count": 7,
   "metadata": {},
   "outputs": [
    {
     "data": {
      "text/html": [
       "<div class=\"data-frame\"><p>118 rows × 2 columns</p><table class=\"data-frame\"><thead><tr><th></th><th>Kitchen</th><th>Air_conditioning</th></tr><tr><th></th><th title=\"Int64\">Int64</th><th title=\"Int64\">Int64</th></tr></thead><tbody><tr><th>1</th><td>1</td><td>1</td></tr><tr><th>2</th><td>1</td><td>1</td></tr><tr><th>3</th><td>1</td><td>1</td></tr><tr><th>4</th><td>1</td><td>1</td></tr><tr><th>5</th><td>1</td><td>1</td></tr><tr><th>6</th><td>1</td><td>1</td></tr><tr><th>7</th><td>1</td><td>1</td></tr><tr><th>8</th><td>1</td><td>1</td></tr><tr><th>9</th><td>1</td><td>1</td></tr><tr><th>10</th><td>1</td><td>1</td></tr><tr><th>11</th><td>1</td><td>1</td></tr><tr><th>12</th><td>1</td><td>1</td></tr><tr><th>13</th><td>1</td><td>1</td></tr><tr><th>14</th><td>1</td><td>1</td></tr><tr><th>15</th><td>1</td><td>1</td></tr><tr><th>16</th><td>1</td><td>1</td></tr><tr><th>17</th><td>1</td><td>1</td></tr><tr><th>18</th><td>1</td><td>1</td></tr><tr><th>19</th><td>1</td><td>1</td></tr><tr><th>20</th><td>1</td><td>1</td></tr><tr><th>21</th><td>1</td><td>1</td></tr><tr><th>22</th><td>1</td><td>1</td></tr><tr><th>23</th><td>1</td><td>1</td></tr><tr><th>24</th><td>1</td><td>1</td></tr><tr><th>25</th><td>1</td><td>1</td></tr><tr><th>26</th><td>1</td><td>1</td></tr><tr><th>27</th><td>1</td><td>1</td></tr><tr><th>28</th><td>1</td><td>1</td></tr><tr><th>29</th><td>1</td><td>1</td></tr><tr><th>30</th><td>1</td><td>1</td></tr><tr><th>&vellip;</th><td>&vellip;</td><td>&vellip;</td></tr></tbody></table></div>"
      ],
      "text/latex": [
       "\\begin{tabular}{r|cc}\n",
       "\t& Kitchen & Air\\_conditioning\\\\\n",
       "\t\\hline\n",
       "\t& Int64 & Int64\\\\\n",
       "\t\\hline\n",
       "\t1 & 1 & 1 \\\\\n",
       "\t2 & 1 & 1 \\\\\n",
       "\t3 & 1 & 1 \\\\\n",
       "\t4 & 1 & 1 \\\\\n",
       "\t5 & 1 & 1 \\\\\n",
       "\t6 & 1 & 1 \\\\\n",
       "\t7 & 1 & 1 \\\\\n",
       "\t8 & 1 & 1 \\\\\n",
       "\t9 & 1 & 1 \\\\\n",
       "\t10 & 1 & 1 \\\\\n",
       "\t11 & 1 & 1 \\\\\n",
       "\t12 & 1 & 1 \\\\\n",
       "\t13 & 1 & 1 \\\\\n",
       "\t14 & 1 & 1 \\\\\n",
       "\t15 & 1 & 1 \\\\\n",
       "\t16 & 1 & 1 \\\\\n",
       "\t17 & 1 & 1 \\\\\n",
       "\t18 & 1 & 1 \\\\\n",
       "\t19 & 1 & 1 \\\\\n",
       "\t20 & 1 & 1 \\\\\n",
       "\t21 & 1 & 1 \\\\\n",
       "\t22 & 1 & 1 \\\\\n",
       "\t23 & 1 & 1 \\\\\n",
       "\t24 & 1 & 1 \\\\\n",
       "\t25 & 1 & 1 \\\\\n",
       "\t26 & 1 & 1 \\\\\n",
       "\t27 & 1 & 1 \\\\\n",
       "\t28 & 1 & 1 \\\\\n",
       "\t29 & 1 & 1 \\\\\n",
       "\t30 & 1 & 1 \\\\\n",
       "\t$\\dots$ & $\\dots$ & $\\dots$ \\\\\n",
       "\\end{tabular}\n"
      ],
      "text/plain": [
       "\u001b[1m118×2 DataFrame\u001b[0m\n",
       "\u001b[1m Row \u001b[0m│\u001b[1m Kitchen \u001b[0m\u001b[1m Air_conditioning \u001b[0m\n",
       "\u001b[1m     \u001b[0m│\u001b[90m Int64   \u001b[0m\u001b[90m Int64            \u001b[0m\n",
       "─────┼───────────────────────────\n",
       "   1 │       1                 1\n",
       "   2 │       1                 1\n",
       "   3 │       1                 1\n",
       "   4 │       1                 1\n",
       "   5 │       1                 1\n",
       "   6 │       1                 1\n",
       "   7 │       1                 1\n",
       "   8 │       1                 1\n",
       "   9 │       1                 1\n",
       "  10 │       1                 1\n",
       "  11 │       1                 1\n",
       "  ⋮  │    ⋮            ⋮\n",
       " 109 │       0                 1\n",
       " 110 │       0                 1\n",
       " 111 │       0                 1\n",
       " 112 │       1                 0\n",
       " 113 │       1                 0\n",
       " 114 │       1                 0\n",
       " 115 │       0                 1\n",
       " 116 │       1                 1\n",
       " 117 │       1                 0\n",
       " 118 │       1                 1\n",
       "\u001b[36m                  97 rows omitted\u001b[0m"
      ]
     },
     "execution_count": 7,
     "metadata": {},
     "output_type": "execute_result"
    }
   ],
   "source": [
    "# Let's check if our amenity columns have been added\n",
    "amenities = [:Kitchen,:Air_conditioning]\n",
    "listings[!,amenities]"
   ]
  },
  {
   "cell_type": "code",
   "execution_count": 8,
   "metadata": {},
   "outputs": [
    {
     "data": {
      "text/plain": [
       "118-element Vector{Int64}:\n",
       "  555\n",
       "  300\n",
       "  300\n",
       " 1371\n",
       " 1335\n",
       " 1680\n",
       " 1851\n",
       " 1851\n",
       " 1680\n",
       "  840\n",
       " 1335\n",
       "  480\n",
       "  810\n",
       "    ⋮\n",
       "  567\n",
       "  667\n",
       "  667\n",
       " 1197\n",
       "  567\n",
       "  285\n",
       "  612\n",
       "  612\n",
       "  960\n",
       "  663\n",
       "  180\n",
       "  267"
      ]
     },
     "execution_count": 8,
     "metadata": {},
     "output_type": "execute_result"
    }
   ],
   "source": [
    "# select the column in the listings data that gives the cost on this date\n",
    "cost = listings[!,Symbol(\"stay 1\")]"
   ]
  },
  {
   "cell_type": "markdown",
   "metadata": {},
   "source": [
    "Now let's read in the date we gathered about students' accommodation preferences."
   ]
  },
  {
   "cell_type": "code",
   "execution_count": null,
   "metadata": {},
   "outputs": [],
   "source": [
    "preferences = CSV.read(\"preferences.csv\")\n",
    "N=size(preferences,1)\n",
    "first(preferences,5)"
   ]
  },
  {
   "cell_type": "markdown",
   "metadata": {},
   "source": [
    "## Model formulaton\n",
    "\n",
    "Now that we have all our data, let's formulate a model to select the cheapest set of listings that we could book to accommodate everyone.\n",
    "* We need to decide which listings to book. We'll need a **binary** variable to represent whether we should book each listing: $$y_j =\\begin{cases} 1 & \\text{if we book listing $j$} \\\\ 0& \\text{if we don't book listing $j$}\\end{cases}$$\n",
    "* We need to decide who will stay in each listing that we book: $$x_{ij} =\\begin{cases} 1 & \\text{if person $i$ stays in listing $j$} \\\\ 0& \\text{if not}\\end{cases}$$\n",
    "* We need a cost function to calculate the total price of our bookings: $$\\sum_{j=1}^L cost_j y_j$$\n",
    "\n",
    "We also need some constraints to make sure our solution is feasible:\n",
    "\n",
    "$ \\sum_{j=1}^{L} x_{ij} = 1 \\text{ for } i=1,\\dots,N$ (each person is assigned to exactly one listing)\n",
    "\n",
    "$ x_{ij} \\leq y_j \\text{ for } i=1,\\dots,N; \\ j=1,\\dots,L $ (can only assign people to listings that we book)\n",
    "\n",
    "$ \\sum_{i=1}^{N} x_{ij} \\leq \\text{accommodates}_j \\text{ for } j=1,\\dots,L$ (we can't assign more people than the listing allows)"
   ]
  },
  {
   "cell_type": "code",
   "execution_count": null,
   "metadata": {},
   "outputs": [],
   "source": [
    "# Let's try a simple model to select the cheapest listings that are available for this period\n",
    "m = Model(with_optimizer(Gurobi.Optimizer,TimeLimit=60))\n",
    "\n",
    "# variables\n",
    "# y[j]=1 listing j is booked, and 0 otherwise\n",
    "@variable()\n",
    "# x[i,j]=1 if person i stays in listing j, and 0 otherwise\n",
    "@variable()\n",
    "\n",
    "# constraints\n",
    "# everyone has to be assigned exactly one listing\n",
    "@constraint() \n",
    "# we can only put people in a listing if it is booked\n",
    "@constraint() \n",
    "# maximum occupancy per unit -- we multiply this by y to make the problem easier to solve\n",
    "@constraint() \n",
    "\n",
    "# objective\n",
    "@objective()\n",
    "\n",
    "optimize!(m)"
   ]
  },
  {
   "cell_type": "code",
   "execution_count": null,
   "metadata": {},
   "outputs": [],
   "source": [
    "# let's look at our solution:\n",
    "println(\"Cost per person: \", JuMP.objective_value(m)/N)\n",
    "println(\"Number of listings booked: \", sum(JuMP.value.(y)))\n",
    "println(\"Selected listings: \", findall(JuMP.value.(y).>0) )\n",
    "println(\"Guests per listing: \", listings[findall(JuMP.value.(y).>0),:accommodates] )"
   ]
  },
  {
   "cell_type": "markdown",
   "metadata": {},
   "source": [
    "Now, let's incorporate some of the other constraints from our preference data.\n",
    "\n",
    "We need new variables to decide whether each listing should be booked for males only, females only, or any gender. For convenience, let's index these variables with the column names in our preferences data.\n",
    "$$ z_{j, k} = \\begin{cases} 1 & \\text{ if listing $j$ is used as room type $k$} \\\\ 0 & \\text{ otherwise}.\\end{cases}$$\n",
    "Next, we need a constraint to ensure that each listing is only used for one of the three categories (i.e., a listing can't be male only and female only at the same time).\n",
    "$$ \\sum_{k \\in \\text{ room types} } z_{jk} \\leq 1 \\text{ for } j=1,\\dots,L$$\n",
    "\n",
    "We also need to ensure that each student is placed in a room type that matches their preferences:\n",
    "$$ x_{ij} \\leq \\sum_{k \\in \\text{ room types} } z_{jk}\\text{preferences}_{ik} \\quad \\text{ for } i=1,\\dots,N; \\ j=1,\\dots,L $$"
   ]
  },
  {
   "cell_type": "code",
   "execution_count": null,
   "metadata": {},
   "outputs": [],
   "source": [
    "room_types = [:room_A ,:room_F ,:room_M ]\n",
    "@variable(m, z[1:L,room_types], Bin)\n",
    "\n",
    "# each listing can only be used for one of the three room types\n",
    "@constraint(m, )\n",
    "\n",
    "# preferences: x[i,j] can only be 1 if listing j matches the student's preferred room type(s) \n",
    "# i.e., z[j,type] matches student i's gender preferences\n",
    "@constraint(m, [i=1:N,j=1:L], x[i,j] <= sum(preferences[i,k]*z[j,k]  for k in room_types))\n",
    "\n",
    "optimize!(m)\n"
   ]
  },
  {
   "cell_type": "code",
   "execution_count": null,
   "metadata": {},
   "outputs": [],
   "source": [
    "# let's look at our solution:\n",
    "println(\"Cost per person: \", JuMP.objective_value(m)/N)\n",
    "println(\"Number of listings booked: \", sum(JuMP.value.(y)))\n",
    "println(\"Selected listings: \", findall(JuMP.value.(y).>0) )\n",
    "println(\"Guests per listing: \", listings[findall(JuMP.value.(y).>0),:accommodates] )"
   ]
  },
  {
   "cell_type": "markdown",
   "metadata": {},
   "source": [
    "Now let's add a constraint for the amenities requested by each student in the preferences data (in these columns, 1 means that the student must be in a listing with this amenity, 0 means they don't mind).\n",
    "How can we express this as an optimization constraint? Ideally we would like something that looks like this:\n",
    "\n",
    "$$x_{ij}\\leq \\text{amenities_match}(i,j),$$\n",
    "\n",
    "where amenities_match(i,j) is a function that returns 1 if listing $j$ has all the amentities requested by student $i$, and zero if it does not. We could write this function using a for loop to check each amenity and if statements to return either 1 or 0."
   ]
  },
  {
   "cell_type": "code",
   "execution_count": null,
   "metadata": {},
   "outputs": [],
   "source": [
    "function amenities_match(i,j)\n",
    "    student_preferences = preferences[i,amenities]\n",
    "    listing_amenities = listings[j,amenities]\n",
    "    for a in amenities\n",
    "        if student_preferences[a]>listing_amenities[a]\n",
    "            # listing lacks the requested feature\n",
    "            return(0)\n",
    "        end\n",
    "    end\n",
    "    #all amenities matched student's preferences\n",
    "    return(1)\n",
    "end"
   ]
  },
  {
   "cell_type": "code",
   "execution_count": null,
   "metadata": {},
   "outputs": [],
   "source": [
    "m = Model(with_optimizer(Gurobi.Optimizer,TimeLimit=60))\n",
    "\n",
    "# variables\n",
    "# y[j]=1 listing j is booked, and 0 otherwise\n",
    "@variable(m, y[1:L], Bin)\n",
    "# x[i,j]=1 if person i stays in listing j, and 0 otherwise\n",
    "@variable(m, x[1:N,1:L], Bin)\n",
    "\n",
    "# constraints\n",
    "# everyone has to be assigned exactly one listing\n",
    "@constraint(m,[i=1:N],sum(x[i,:])==1) \n",
    "# we can only put people in a listing if it is booked\n",
    "@constraint(m,[i=1:N,j=1:L],x[i,j]<=y[j]) \n",
    "# maximum occupancy per unit\n",
    "@constraint(m,[j=1:L],sum(x[:,j])<=listings[j,:accommodates]*y[j]) \n",
    "\n",
    "# objective\n",
    "@objective(m, Min, sum( y[j]*cost[j] for j=1:L ))# variables\n",
    "\n",
    "@variable(m, z[1:L,room_types], Bin)\n",
    "\n",
    "# each listing can only be used for one of the three room types\n",
    "@constraint(m, [j=1:L], sum(z[j,:]) <= 1)\n",
    "\n",
    "# preferences: x[i,j] can only be 1 if listing j matches the student's preferred room type(s) \n",
    "# i.e., z[j,type] matches student i's gender preferences\n",
    "@constraint(m, [i=1:N,j=1:L], x[i,j] <= sum(preferences[i,k]*z[j,k]  for k in room_types))\n",
    "\n",
    "# amenity preferences: x[i,j] can only be 1 if listing[j] matches student i's preferences\n",
    "@constraint(m,[i=1:N,j=1:L], x[i,j] <= amenities_match(i,j) )\n",
    "\n",
    "optimize!(m)"
   ]
  },
  {
   "cell_type": "code",
   "execution_count": null,
   "metadata": {},
   "outputs": [],
   "source": [
    "println(\"Cost per person: \",JuMP.objective_value(m)/N)\n",
    "println(\"Number of listings: \",sum(JuMP.value.(y)))\n",
    "println(\"Selected listings: \",findall(JuMP.value.(y).>0) )\n",
    "println(\"Guests per listing: \",listings[findall(JuMP.value.(y).>0),:accommodates] )"
   ]
  },
  {
   "cell_type": "code",
   "execution_count": null,
   "metadata": {},
   "outputs": [],
   "source": [
    "# find out what type of room each listing will be\n",
    "listings[:,:type] = \"\"\n",
    "Z = JuMP.value.(z)\n",
    "\n",
    "for j in findall(JuMP.value.(y).>0)\n",
    "    for t in room_types\n",
    "        if Z[j,t]==1\n",
    "         listings[j,:type] = string(t)\n",
    "        end\n",
    "    end\n",
    "end\n",
    "listings[!,:type]"
   ]
  },
  {
   "cell_type": "code",
   "execution_count": null,
   "metadata": {},
   "outputs": [],
   "source": [
    "X = JuMP.value.(x)\n",
    "\n",
    "assigned_listing = [ listings[findall(X[i,:].>0)[1],:id] for i=1:N]\n",
    "assigned_type = [ listings[findall(X[i,:].>0)[1],:type] for i=1:N]"
   ]
  },
  {
   "cell_type": "code",
   "execution_count": null,
   "metadata": {},
   "outputs": [],
   "source": [
    "# make a new data frame with each individual's assignment\n",
    "assignments = DataFrame()\n",
    "assignments[!,:Name] = preferences[!,:Name]\n",
    "assignments[!,:listing] = assigned_listing\n",
    "assignments[!,:type] = assigned_type\n",
    "first(assignments,5)"
   ]
  },
  {
   "cell_type": "code",
   "execution_count": null,
   "metadata": {},
   "outputs": [],
   "source": [
    "# choose a name for the output file\n",
    "filename = \"airbnb_solution\"\n",
    "\n",
    "CSV.write(\"$filename.csv\",assignments)"
   ]
  },
  {
   "cell_type": "markdown",
   "metadata": {},
   "source": [
    "Great! We now have our initial solution, which will be significanlty cheaper than staying in an hotel. \n",
    "The next step is to validate our solution:\n",
    "* each individual student should find their listing and make sure it matches their preferences\n",
    "* each student should check their roommates and make sure that they are in the correct type of room\n",
    "* are there any problems/complaints about the assignments?\n"
   ]
  },
  {
   "cell_type": "markdown",
   "metadata": {},
   "source": [
    "It's generally cheaper for many people to share a listing, so our optimization model seems to be choosing listings that accommodate many people. Unfortunately, some hosts might be a little optimistic about the number of people that their space can hold!\n",
    "Let's do a quick comparison of the number of beds vs. number of guests in our selected listings."
   ]
  },
  {
   "cell_type": "code",
   "execution_count": null,
   "metadata": {},
   "outputs": [],
   "source": [
    "selected_listings = findall(JuMP.value.(y).>0)\n",
    "listings[selected_listings,[:id,:beds,:accommodates]]"
   ]
  },
  {
   "cell_type": "markdown",
   "metadata": {},
   "source": [
    "It looks like most listings are assuming two people per bed. Some even have more than two people per bed --- maybe there is a spare mattress or couch?\n",
    "\n",
    "Let's see what happens if we restrict the number of people assigned to each listing to the number of beds in the listing:"
   ]
  },
  {
   "cell_type": "code",
   "execution_count": null,
   "metadata": {},
   "outputs": [],
   "source": [
    "# maximum occupancy per unit\n",
    "@constraint() \n",
    "optimize!(m)"
   ]
  },
  {
   "cell_type": "code",
   "execution_count": null,
   "metadata": {},
   "outputs": [],
   "source": [
    "println(\"Cost per person: \",JuMP.objective_value(m)/N)\n",
    "println(\"Number of listings: \",sum(JuMP.value.(y)))"
   ]
  },
  {
   "cell_type": "markdown",
   "metadata": {},
   "source": [
    "This solution is significantly more expensive. What should we do?"
   ]
  },
  {
   "cell_type": "markdown",
   "metadata": {},
   "source": [
    "# Exercise\n",
    "\n",
    "Divide into groups to work on an improved version of the AirBnB assignment model. There is no \"right\" solution to this problem, so your goal is to come up with the best model that you can. After working on this, you will have an opportunity to present it to other students and get their feedback.\n",
    "Here are some ideas to get you started:\n",
    "* You can modify the R script to generate different input data for your model (e.g., you could add different neighbourhoods, change the start date of the trip, adjust the rating requirements). If you do this, keep a list of your criteria and the reason for these decisions.\n",
    "* You can ask your classmates for additional data about their preferences. Remember that collecting data is difficult and time-consuming, so you can't just assume that everyone will answer a 10-page questionnaire with detailed questions about their preferences. You need to justify why it's worthwhile to put effort into collecting more data. If you decide to do this, add the corresponding columns in the preferences.csv file and type in some made-up data so that you can run your model (unfortunately we don't have time for everyone to fill out more surveys).\n",
    "* Think about how you would present your solution to your classmates. Maybe you could send them a dashboard that shows the details of their assignment and roommates. Perhaps you could visualize all the selected bookings on a map so that everyone can see where their friends will be located.\n",
    "\n",
    "Outputs\n",
    "* Provide a brief summary of how and why you have modified the assignment model. Describe any assumptions you have made and any additional data that you are using.\n",
    "* Provide a notebook with a full version of your code. Use comments to explain any new constraints or variables that you have added.\n",
    "* Provide a csv file with your best solution and an example of how you would share your solution with other students (plots, dashboards etc.)"
   ]
  },
  {
   "cell_type": "code",
   "execution_count": null,
   "metadata": {},
   "outputs": [],
   "source": []
  }
 ],
 "metadata": {
  "@webio": {
   "lastCommId": null,
   "lastKernelId": null
  },
  "kernelspec": {
   "display_name": "Julia 1.6.2",
   "language": "julia",
   "name": "julia-1.6"
  },
  "language_info": {
   "file_extension": ".jl",
   "mimetype": "application/julia",
   "name": "julia",
   "version": "1.6.2"
  }
 },
 "nbformat": 4,
 "nbformat_minor": 2
}
