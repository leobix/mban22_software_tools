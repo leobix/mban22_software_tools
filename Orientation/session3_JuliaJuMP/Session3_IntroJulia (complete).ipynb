{
 "cells": [
  {
   "cell_type": "markdown",
   "metadata": {},
   "source": [
    "# Getting Started in Julia\n",
    "## Julia Basics\n",
    "To get started in Julia, we're going to look at two basic concepts: **loops** and **functions**. We won't cover the full Julia syntax, but it is easy to pick up (especially if you are familier with Python). The documentation is available [here](https://docs.julialang.org/en/v1/)."
   ]
  },
  {
   "cell_type": "markdown",
   "metadata": {},
   "source": [
    "### Jupyter notebooks\n",
    "\n",
    "Jupyter notebooks are a convenient way to write and run code in interactive Julia sessions. This can be really useful when you are exploring data or writing code that runs over multiple lines.\n",
    "Notebooks can also display formatted text (like this cell) and images. These notebooks are very commonly used for Julia and Python projects since they allow you to create a narrative around your code and make it easier for other users (and yourself!) to follow.\n",
    "\n",
    "You can learn more about how to navigate Jupyter notebooks (creating cells, changing between code and text, etc.) [here](https://nbviewer.jupyter.org/github/ipython/ipython/blob/3.x/examples/Notebook/Index.ipynb)."
   ]
  },
  {
   "cell_type": "markdown",
   "metadata": {},
   "source": [
    "### For loops\n",
    "A **for** loop is a piece of code that repeats the same calculation multiple times."
   ]
  },
  {
   "cell_type": "code",
   "execution_count": null,
   "metadata": {},
   "outputs": [],
   "source": [
    "for i=1:5\n",
    "    println(i)\n",
    "end"
   ]
  },
  {
   "cell_type": "markdown",
   "metadata": {},
   "source": [
    "In Julia, for loops can iterate over any array."
   ]
  },
  {
   "cell_type": "code",
   "execution_count": null,
   "metadata": {},
   "outputs": [],
   "source": [
    "v = [\"alpha\",\"beta\"]\n",
    "for i in v\n",
    "    println(i)\n",
    "end"
   ]
  },
  {
   "cell_type": "markdown",
   "metadata": {},
   "source": [
    "### If statement\n",
    "An **if** statement evaluates a condition and only runs code if the condition is `true`. If the condition is `false`, the inner code is ignored.\n",
    "\n",
    "We can include several conditions in the same if statement by adding an **elseif** condition. If we add an **else** statement at the end, this code will run if none of the previous conditions were `true`. "
   ]
  },
  {
   "cell_type": "code",
   "execution_count": null,
   "metadata": {},
   "outputs": [],
   "source": [
    "# if the number is less that 3, print it. \n",
    "# if the number is equal to 4, add 2 and print the result\n",
    "# for other numbers print \"skip!\"\n",
    "x = 4\n",
    "\n",
    "if x<3\n",
    "    println(x)\n",
    "elseif x==4\n",
    "    println(x+2)\n",
    "else\n",
    "    println(\"skip\")\n",
    "end"
   ]
  },
  {
   "cell_type": "markdown",
   "metadata": {},
   "source": [
    "#### Exercise\n",
    "Write a for loop to evaluate the if statement (above) on the numbers 1 to 5."
   ]
  },
  {
   "cell_type": "code",
   "execution_count": null,
   "metadata": {},
   "outputs": [],
   "source": [
    "for x=1:5\n",
    "    if x<3\n",
    "        println(x)\n",
    "    elseif x==4\n",
    "        println(x+2)\n",
    "    else\n",
    "        println(\"skip\")\n",
    "    end\n",
    "end"
   ]
  },
  {
   "cell_type": "markdown",
   "metadata": {},
   "source": [
    "### While loops\n",
    "A **while** loop is a combination of  **for** and **if**. If the **while** condition is `true`, it evaluates the code inside the loop and then returns to check the condition again. It will keep evaluating the inner code until the condition is no longer `true`.\n",
    "\n",
    "Note: when writing while loops, make sure that the condition will eventually be `false` to avoid an infinite loop!            "
   ]
  },
  {
   "cell_type": "code",
   "execution_count": null,
   "metadata": {},
   "outputs": [],
   "source": [
    "# while loop\n",
    "i = 1\n",
    "while i<5\n",
    "    println(i)\n",
    "    i += 1 # this is just a quicker way of saying i = i + 1\n",
    "end"
   ]
  },
  {
   "cell_type": "markdown",
   "metadata": {},
   "source": [
    "## Functions\n",
    "We've already learned how to use built-in functions in `R` and Julia. You can also write your own functions to store and re-use code that you'll need to run many times. In Julia, functions are especially beneficial because Julia's built-in complier will learn how to run them efficiently.\n",
    "\n",
    "Each function has a few basic components:\n",
    "* name (this is what you will use to run the function)\n",
    "* arguments/input data\n",
    "* body (code that runs in the function)\n",
    "* output"
   ]
  },
  {
   "cell_type": "code",
   "execution_count": null,
   "metadata": {},
   "outputs": [],
   "source": [
    "function addOne(x) # name(arguments)\n",
    "    # body of the function\n",
    "    y = x+1\n",
    "    return(y) # output\n",
    "end\n",
    "\n",
    "addOne(5)"
   ]
  },
  {
   "cell_type": "code",
   "execution_count": null,
   "metadata": {},
   "outputs": [],
   "source": [
    "# function\n",
    "function Maximum(a,b) # name(arguments)\n",
    "    # body of the function\n",
    "    if a>b\n",
    "        println(\"$a is bigger than $b\")\n",
    "        return(a) # output\n",
    "    elseif b>a\n",
    "        println(\"$b is bigger than $a\")\n",
    "        return(b) # output\n",
    "    elseif b==a\n",
    "        println(\"$a is equal to $b\")\n",
    "        return(a) # output\n",
    "    end\n",
    "end"
   ]
  },
  {
   "cell_type": "code",
   "execution_count": null,
   "metadata": {},
   "outputs": [],
   "source": [
    "m = Maximum(2,1)\n",
    "println(\"m=$m\")"
   ]
  },
  {
   "cell_type": "markdown",
   "metadata": {},
   "source": [
    "#### Exercise 1: Practicing Functions\n",
    "Write a function that takes in a 1D array of numbers and returns another array containing only the even numbers from the first array. Hint: a number x is even if we divide it by 2 and get a remainder of 0. In Julia, use x%2 to calculate the remainder."
   ]
  },
  {
   "cell_type": "code",
   "execution_count": null,
   "metadata": {},
   "outputs": [],
   "source": []
  },
  {
   "cell_type": "markdown",
   "metadata": {},
   "source": [
    "#### Advanced Exercise: Handling errors\n",
    "Functions can behave in unexpected ways if their input doesn't match the expected type. For example, try running one of the functions above with strings as inputs.\n",
    "Look up the try/catch statement here: https://docs.julialang.org/en/v1/manual/control-flow/#Exception-Handling-1. Can you implement this to provide a warning if the function code doesn't succeed?"
   ]
  },
  {
   "cell_type": "markdown",
   "metadata": {},
   "source": [
    "## Intro to Data Manipulation and Visualization in Julia\n",
    "In this section, we will learn how to read in data and conduct data manipulation and visualization in Julia. This is an important step in solving a real-world optimization problem, as real-world data can be messy and difficult to work with.\n",
    "\n",
    "## DataFrames\n",
    "Like data frames in `R`, `Julia` also has a similar structure for datasets. You will need to load the packages `DataFrames` and `CSV` first:"
   ]
  },
  {
   "cell_type": "code",
   "execution_count": null,
   "metadata": {},
   "outputs": [],
   "source": [
    "using DataFrames, CSV"
   ]
  },
  {
   "cell_type": "markdown",
   "metadata": {},
   "source": [
    "Now let's read in the data:"
   ]
  },
  {
   "cell_type": "code",
   "execution_count": null,
   "metadata": {},
   "outputs": [],
   "source": [
    "iris = CSV.read(\"iris.csv\");"
   ]
  },
  {
   "cell_type": "markdown",
   "metadata": {},
   "source": [
    "To view the first few rows of the data, you can use `first()`, or index the dataframe similar to what you did you in `R`:\n",
    "\n",
    "To subset rows, pass in the indices in the first dimension. If you are not subsetting to particular columns, just pass in ``:`` in the second dimension (as opposed to leaving it blank in `R`)."
   ]
  },
  {
   "cell_type": "code",
   "execution_count": null,
   "metadata": {},
   "outputs": [],
   "source": [
    "iris[1:5,:]\n",
    "first(iris,5)"
   ]
  },
  {
   "cell_type": "code",
   "execution_count": null,
   "metadata": {},
   "outputs": [],
   "source": [
    "To index a column using column name, simply put a `:` in front of the name to make it into a Julia symbol. \n",
    "We could also write the column name like this: `symbol(\"SepalLength\")`.\n",
    "\n",
    "\n",
    "To select all rows, you can either type `[:,:columnName]` or `[!,:columnName]`."
   ]
  },
  {
   "cell_type": "code",
   "execution_count": null,
   "metadata": {},
   "outputs": [],
   "source": [
    "iris[!,:SepalLength]"
   ]
  },
  {
   "cell_type": "code",
   "execution_count": null,
   "metadata": {},
   "outputs": [],
   "source": [
    "species_price = DataFrame(Species = [\"setosa\", \"versicolor\", \"virginica\"],\n",
    "                        Price = [2.5, 3.1, 3.2])"
   ]
  },
  {
   "cell_type": "code",
   "execution_count": null,
   "metadata": {},
   "outputs": [],
   "source": [
    "join(iris, species_price, on = :Species, kind = :left)"
   ]
  },
  {
   "cell_type": "markdown",
   "metadata": {},
   "source": [
    "\n",
    "## Plotting in Julia\n",
    "\n",
    "Julia also has extensive support for plotting. \n",
    "\n",
    "* `Plots.jl` is a powerful and concise tool for plotting. It provides the interface to many other plotting packages with simple and consistent syntax.\n",
    "* `StatPlots.jl` offers the DataFrames integration for `Plots`. You can pass in a data frame, and map aesthetics to the column names directly. \n",
    "\n",
    "Using these would be somewhat similar to working with `ggplot2` in `R`. \n",
    "\n",
    "Here is an example of a scatter plot based on the `iris` data, where the x axis is the `SepalLength`, y axis is `SepalWidth`, and the grouping (therefore the colors) are based on the `Species`."
   ]
  },
  {
   "cell_type": "code",
   "execution_count": null,
   "metadata": {},
   "outputs": [],
   "source": [
    "using Plots\n",
    "using StatsPlots\n",
    "pyplot()\n",
    "scatter(iris[!,:SepalLength],iris[!,:SepalWidth],group=iris[!,:Species])"
   ]
  },
  {
   "cell_type": "markdown",
   "metadata": {},
   "source": [
    "We can make the plot more interesting by adding a few custom settings. For example:\n",
    "* Give it a title\n",
    "* Provide xlabel and ylabel\n",
    "* Change the transparency, shape, and size of the dots\n",
    "* change background color to dark grey"
   ]
  },
  {
   "cell_type": "code",
   "execution_count": null,
   "metadata": {},
   "outputs": [],
   "source": [
    "scatter(iris[!,:SepalLength],iris[!,:SepalWidth],group=iris[!,:Species],\n",
    "        title = \"Sepal length vs. width\",\n",
    "        xlabel = \"Length\", ylabel = \"Width\",\n",
    "        m=(0.5, [:cross :hex :star7], 12),\n",
    "        bg=RGB(.2,.2,.2))"
   ]
  },
  {
   "cell_type": "markdown",
   "metadata": {},
   "source": [
    "You can also do a box plot (with the violin plot in the background) grouped by the species. Note the `!` in `boxplot!` adds the current plot to the existing one. "
   ]
  },
  {
   "cell_type": "code",
   "execution_count": null,
   "metadata": {},
   "outputs": [],
   "source": [
    "violin(iris[!,:Species],iris[!,:SepalLength])\n",
    "boxplot!(iris[!,:Species],iris[!,:SepalLength], leg=false,\n",
    "    xlabel = \"Species\", ylabel = \"Sepal Length\")"
   ]
  },
  {
   "cell_type": "code",
   "execution_count": null,
   "metadata": {},
   "outputs": [],
   "source": [
    "There are many other types of plots and custom options. You can explore more from [the tutorial](https://juliaplots.github.io/tutorial/)."
   ]
  },
  {
   "cell_type": "markdown",
   "metadata": {},
   "source": [
    "#### Exercise: Plotting Icecream data"
   ]
  },
  {
   "cell_type": "markdown",
   "metadata": {},
   "source": [
    "This time, we are going to read in a dataset directly from the package `RDatasets`. Use the following syntax \n",
    "```dataset(\"Ecdat\", \"Icecream\")```\n",
    "\n",
    "and save it as a dataframe called `icecream`. \n",
    "\n",
    "The dataset is on the ice cream consumption. The columns are:\n",
    "* `Cons`: consumption level of ice cream\n",
    "* `Income`: income level\n",
    "* `Price`: price of ice cream\n",
    "* `Temperature`: outside temperature at time of measurement\n",
    "\n",
    "Inspect the first few rows of the data."
   ]
  },
  {
   "cell_type": "code",
   "execution_count": null,
   "metadata": {},
   "outputs": [],
   "source": [
    "using RDatasets\n",
    "icecream = dataset(\"Ecdat\", \"Icecream\")\n",
    "first(icecream,5)"
   ]
  },
  {
   "cell_type": "markdown",
   "metadata": {},
   "source": [
    "##### Question 1: How is income related to Consumption?"
   ]
  },
  {
   "cell_type": "code",
   "execution_count": null,
   "metadata": {},
   "outputs": [],
   "source": [
    "scatter(icecream[!,:Income], icecream[!,:Cons],\n",
    "    xlabel = \"Income\", ylabel = \"Consumption\")"
   ]
  },
  {
   "cell_type": "markdown",
   "metadata": {},
   "source": [
    "##### Question 2: Do you see a positive relationship between the temperature and revenue?\n",
    "Hint: start by creating the `Revenue` variable as the product between `Price` and `Cons`. \n",
    "\n"
   ]
  },
  {
   "cell_type": "code",
   "execution_count": null,
   "metadata": {},
   "outputs": [],
   "source": [
    "icecream[!,:Revenue] = icecream[!,:Price] .* icecream[!,:Cons]\n",
    "scatter(icecream[!,:Temp], icecream[!,:Revenue],\n",
    "xlabel = \"Temperature\", ylabel = \"Revenue\")"
   ]
  },
  {
   "cell_type": "markdown",
   "metadata": {},
   "source": [
    "##### Question 3: How does consumption relate to income?\n",
    "Create a new variable `IncomeGroup` that assigns label to each row based on how much income was recorded (e.g. you could have 'low', 'medium' and 'high' groups). Then, plot the distribution of the consumption over the different groups."
   ]
  },
  {
   "cell_type": "code",
   "execution_count": null,
   "metadata": {},
   "outputs": [],
   "source": [
    "function get_income_group(x)\n",
    "    if (x < 80) \n",
    "        gr = \"low\"\n",
    "    elseif (x < 85)\n",
    "        gr = \"medium\"\n",
    "    else \n",
    "        gr = \"high\"\n",
    "    end\n",
    "end\n",
    "\n",
    "icecream[!,:IncomeGroup] = map(get_income_group,icecream[!,:Income])"
   ]
  },
  {
   "cell_type": "code",
   "execution_count": null,
   "metadata": {},
   "outputs": [],
   "source": [
    "boxplot(icecream[!,:IncomeGroup], icecream[!,:Cons], leg=false,\n",
    "xlabel = \"Income group\", ylabel = \"Consumption\")"
   ]
  }
 ],
 "metadata": {
  "kernelspec": {
   "display_name": "Julia 1.1.0",
   "language": "julia",
   "name": "julia-1.1"
  },
  "language_info": {
   "file_extension": ".jl",
   "mimetype": "application/julia",
   "name": "julia",
   "version": "1.1.0"
  }
 },
 "nbformat": 4,
 "nbformat_minor": 2
}
